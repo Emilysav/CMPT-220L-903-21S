{
 "cells": [
  {
   "cell_type": "markdown",
   "metadata": {},
   "source": [
    "# Lab One\n",
    "---\n",
    "\n",
    "Ok for this lab we're going to reiterate a lot of the things that we went over in class.\n",
    "\n",
    "Our Goals are:\n",
    "- Binary Math\n",
    "- Defining Variables\n",
    "    - Primitive Types\n",
    "    - Reference Types\n",
    "- Using Math\n",
    "- Manipulating Variables"
   ]
  },
  {
   "cell_type": "markdown",
   "metadata": {},
   "source": [
    "For this section I just want you to type the answer. I know that you can just look this up but try and do the math. \n",
    "### What is 1000 in Decimal | 8 \n",
    "\n",
    "### What is 1000 1001 in Decimal (This is a byte. It's just split for readability)| 137\n",
    "\n",
    "### What is 1010 1111 in Decimal (This is a byte. It's just split for readability)| 175\n",
    "\n",
    "### What is 0101 1010 in Decimal (This is a byte. It's just split for readability)| 90"
   ]
  },
  {
   "cell_type": "code",
   "execution_count": 1,
   "metadata": {},
   "outputs": [],
   "source": [
    "// Define 8 variables, one of each type listed: [boolean, byte, short, int, long, float, double, char]. Print all 8 of them."
   ]
  },
  {
   "cell_type": "code",
   "execution_count": 22,
   "metadata": {},
   "outputs": [
    {
     "name": "stdout",
     "output_type": "stream",
     "text": [
      "true\n",
      "11\n",
      "39976\n",
      "1002\n",
      "16\n",
      "0.2\n",
      "3.9\n",
      "b\n"
     ]
    }
   ],
   "source": [
    "boolean bool = true;\n",
    "Byte a_byte = 11;\n",
    "short a_short = 1002;\n",
    "int an_int = 39976;\n",
    "long a_long = 16;\n",
    "float a_float = 0.2f;\n",
    "double a_double = 3.9;\n",
    "char character = 'b' ;\n",
    "\n",
    "System.out.println(bool);\n",
    "System.out.println(a_byte);\n",
    "System.out.println(an_int);\n",
    "System.out.println(a_short);\n",
    "System.out.println(a_long);\n",
    "System.out.println(a_float);\n",
    "System.out.println(a_double);\n",
    "System.out.println(character);\n"
   ]
  },
  {
   "cell_type": "code",
   "execution_count": null,
   "metadata": {},
   "outputs": [],
   "source": [
    "// Make me a list of any type\n",
    "\n",
    "int[] list = {9, 57, 55, 5, 7, 18, 9};"
   ]
  },
  {
   "cell_type": "code",
   "execution_count": null,
   "metadata": {},
   "outputs": [],
   "source": [
    "// With whatever variables you'd like demonstrate the following: [Addition, Subtraction, Division, Multiplication, Modulo]. Print all 5.\n",
    "\n",
    "System.out.println(2 + 2);\n",
    "System.out.println(5 - 4);\n",
    "System.out.println(6 / 7);\n",
    "System.out.println(9 * 9);\n",
    "System.out.println(2 % 2);"
   ]
  },
  {
   "cell_type": "code",
   "execution_count": null,
   "metadata": {},
   "outputs": [],
   "source": [
    "// Using 2 variables and addition print the number 57\n",
    "\n",
    "int seven =7;\n",
    "int fifty = 50;\n",
    "\n",
    "System.out.println(seven + fifty);"
   ]
  },
  {
   "cell_type": "code",
   "execution_count": null,
   "metadata": {},
   "outputs": [],
   "source": [
    "// Define a variable and print it out. Then alter the same variable and print it out. This can be through string concatenation or addition, etc.\n",
    "\n",
    "String dog = \"I have a dog,\" ;\n",
    "String breed = \"She is a chiwuaua\";\n",
    "\n",
    "System.out.println(dog + breed);"
   ]
  }
 ],
 "metadata": {
  "kernelspec": {
   "display_name": "Java",
   "language": "java",
   "name": "java"
  },
  "language_info": {
   "codemirror_mode": "java",
   "file_extension": ".jshell",
   "mimetype": "text/x-java-source",
   "name": "Java",
   "pygments_lexer": "java",
   "version": "15.0.2+7-27"
  },
  "orig_nbformat": 2
 },
 "nbformat": 4,
 "nbformat_minor": 2
}