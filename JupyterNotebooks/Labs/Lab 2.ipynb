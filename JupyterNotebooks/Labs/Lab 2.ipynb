{
 "cells": [
  {
   "cell_type": "markdown",
   "metadata": {},
   "source": [
    "# Lab Two\n",
    "---\n",
    "\n",
    "Ok for this lab we're going to reiterate a lot of the things that we went over in class.\n",
    "\n",
    "Our Goals are:\n",
    "- Conditionals\n",
    "    - If\n",
    "    - Else\n",
    "    - Else If"
   ]
  },
  {
   "cell_type": "code",
   "execution_count": 5,
   "metadata": {},
   "outputs": [
    {
     "name": "stdout",
     "output_type": "stream",
     "text": [
      "hello\n"
     ]
    }
   ],
   "source": [
    "// Make an if statement\n",
    "if (true) {\n",
    "    System.out.println(\"hello\");\n",
    "}"
   ]
  },
  {
   "cell_type": "code",
   "execution_count": 8,
   "metadata": {},
   "outputs": [
    {
     "name": "stdout",
     "output_type": "stream",
     "text": [
      "this statement is a paradox\n"
     ]
    }
   ],
   "source": [
    "// Make an if, else statement where the else statement triggers\n",
    "\n",
    "if (!true) {\n",
    "\n",
    "    System.out.println(\"this statement is true\");\n",
    "} else {\n",
    "    System.out.println(\"this statement is a paradox\");\n",
    "    \n",
    "}"
   ]
  },
  {
   "cell_type": "code",
   "execution_count": 9,
   "metadata": {},
   "outputs": [
    {
     "name": "stdout",
     "output_type": "stream",
     "text": [
      "I should continue to do homework\n"
     ]
    }
   ],
   "source": [
    "// Make an if, else if, else statement where the else if statement triggers\n",
    "\n",
    "if (!true) {\n",
    "\n",
    "    System.out.println(\"I am tired \");\n",
    "} else if (true){\n",
    "    System.out.println(\"I should continue to do homework\");\n",
    "    \n",
    "} else {\n",
    "    System.out.println(\"I should sleep\");\n",
    "    \n",
    "}"
   ]
  },
  {
   "cell_type": "code",
   "execution_count": 21,
   "metadata": {},
   "outputs": [
    {
     "name": "stdout",
     "output_type": "stream",
     "text": [
      "It's my birthday\n"
     ]
    }
   ],
   "source": [
    "// Make 2 variables and use them in an if else conditional\n",
    "\n",
    "boolean march = true;\n",
    "boolean ninth = true;\n",
    "\n",
    "if (march && ninth) {\n",
    "    System.out.println(\"It's my birthday\");\n",
    "}else {\n",
    "    System.out.println(\"It's my unbirthday\");\n",
    "}"
   ]
  },
  {
   "cell_type": "code",
   "execution_count": null,
   "metadata": {},
   "outputs": [],
   "source": [
    "// Make an if statement using 2 variables and an AND(&&) statement\n",
    "\n",
    "boolean morning = true;\n",
    "boolean tured = true;\n",
    "\n",
    "if (morning && tired) {\n",
    "    System.out.println(\"put the pot of coffee on\");\n",
    "}"
   ]
  },
  {
   "cell_type": "code",
   "execution_count": 22,
   "metadata": {},
   "outputs": [
    {
     "name": "stdout",
     "output_type": "stream",
     "text": [
      "Make sure the tea is caffinated\n"
     ]
    }
   ],
   "source": [
    "// Make an if statement using 2 variables and an OR(||) statement\n",
    "\n",
    "boolean tea = true;\n",
    "boolean coffee = false;\n",
    "\n",
    "if (!coffee || tea) {\n",
    "    System.out.println(\"Make sure the tea is caffinated\");\n",
    "}"
   ]
  },
  {
   "cell_type": "code",
   "execution_count": null,
   "metadata": {},
   "outputs": [],
   "source": []
  }
 ],
 "metadata": {
  "kernelspec": {
   "display_name": "Java",
   "language": "java",
   "name": "java"
  },
  "language_info": {
   "codemirror_mode": "java",
   "file_extension": ".jshell",
   "mimetype": "text/x-java-source",
   "name": "Java",
   "pygments_lexer": "java",
   "version": "15.0.2+7-27"
  },
  "orig_nbformat": 2
 },
 "nbformat": 4,
 "nbformat_minor": 2
}