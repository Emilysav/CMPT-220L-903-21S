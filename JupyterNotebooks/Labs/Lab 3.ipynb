{
 "cells": [
  {
   "cell_type": "markdown",
   "metadata": {},
   "source": [
    "# Lab Three\n",
    "---\n",
    "\n",
    "For this lab we're going to be making and using a bunch of functions. \n",
    "\n",
    "Our Goals are:\n",
    "- Switch Case\n",
    "- Looping\n",
    "- Making our own functions\n",
    "- Combining functions\n",
    "- Structuring solutions"
   ]
  },
  {
   "cell_type": "code",
   "execution_count": 7,
   "metadata": {},
   "outputs": [
    {
     "name": "stdout",
     "output_type": "stream",
     "text": [
      "hell, why is something so simple so horrible to do\n"
     ]
    }
   ],
   "source": [
    "// Give me an example of you using switch case.\n",
    "\n",
    "String starter = \"2 fried oreos\";\n",
    "\n",
    "switch (starter) {\n",
    "    case \"one burrito bowl\":\n",
    "    System.out.println(\"The dream customer order\");\n",
    "    break;\n",
    "    case \"tots and cheese please\":\n",
    "    System.out.println(\"easy but queso, or nacho?\");\n",
    "    break;\n",
    "    case \"2 fried oreos\":\n",
    "    System.out.println(\"hell, why is something so simple so horrible to do\");\n",
    "    break;\n",
    "    default:\n",
    "    System.out.println(\"Sorry, that isn't on the menu\");\n",
    "\n",
    "}\n",
    "\n"
   ]
  },
  {
   "cell_type": "code",
   "execution_count": 46,
   "metadata": {},
   "outputs": [
    {
     "name": "stdout",
     "output_type": "stream",
     "text": [
      "number 0\n",
      "number 1\n",
      "number 2\n",
      "number 3\n",
      "number 4\n",
      "number 5\n",
      "number 6\n",
      "number 7\n",
      "number 8\n",
      "number 9\n",
      "number 10\n"
     ]
    }
   ],
   "source": [
    "// Give me an example of you using a for loop\n",
    "\n",
    "for (int x = 0; x < 11; x++) {\n",
    "    System.out.println(\"number \" + x);\n",
    "}\n"
   ]
  },
  {
   "cell_type": "code",
   "execution_count": null,
   "metadata": {},
   "outputs": [],
   "source": [
    "// Give me an example of you using a for each loop\n",
    "\n",
    "String [] menu = { \"burrito\", \"bowl\", \"tacos\", \"nachos\", \"chiuahuah\" };\n",
    "\n",
    "for ( String item : menu) {\n",
    "    System.out.println(\"you said you wanted our \" + item + \"?\");\n",
    "}"
   ]
  },
  {
   "cell_type": "code",
   "execution_count": 28,
   "metadata": {},
   "outputs": [
    {
     "name": "stdout",
     "output_type": "stream",
     "text": [
      "2\n",
      "3\n",
      "4\n",
      "5\n",
      "6\n",
      "7\n",
      "8\n"
     ]
    }
   ],
   "source": [
    "// Give me an example of you using a while loop\n",
    "\n",
    "int x = 2;\n",
    "while (x < 9) {\n",
    "  System.out.println(x);\n",
    "  ++x;\n",
    "}"
   ]
  },
  {
   "cell_type": "code",
   "execution_count": 49,
   "metadata": {},
   "outputs": [
    {
     "name": "stdout",
     "output_type": "stream",
     "text": [
      "900.0\n"
     ]
    }
   ],
   "source": [
    "// I want you to write a function that will take in a number and raise it to the power given. \n",
    "\n",
    "// For example if given the numbers 2 and 3. The math that the function should do is 2^3 and should print out or return 8. Print the output.\n",
    "\n",
    "\n",
    "import java.lang.Math; \n",
    "  \n",
    "    double a = 30; \n",
    "    double b = 2; \n",
    "    System.out.println(Math.pow(a, b)); \n",
    "  \n",
    " \n",
    "\n",
    "\n"
   ]
  },
  {
   "cell_type": "code",
   "execution_count": 64,
   "metadata": {},
   "outputs": [
    {
     "name": "stdout",
     "output_type": "stream",
     "text": [
      "Found two 2 Times.\n"
     ]
    }
   ],
   "source": [
    "// I want you to write a function that will take in a list and see how many times a given number is in the list. \n",
    "\n",
    "// For example if the array given is [2,3,5,2,3,6,7,8,2] and the number given is 2 the function should print out or return 3. Print the output.\n",
    "\n",
    "List<String> numbers = new ArrayList<String>(Arrays.asList(\"Two\",\"three\",\"five\",\"two\",\"three\",\"six\",\"seven\", \"eight\", \"two\")); \n",
    " \n",
    "long numcount = numbers\n",
    "\t.stream() \n",
    "\t.filter(p -> p.equals(\"two\")) \n",
    "\t.count(); \n",
    "\t     \n",
    "System.out.println(\"Found two \"+numcount+\" Times.\"); "
   ]
  },
  {
   "cell_type": "code",
   "execution_count": 77,
   "metadata": {},
   "outputs": [
    {
     "name": "stdout",
     "output_type": "stream",
     "text": [
      "5.0\n"
     ]
    }
   ],
   "source": [
    "// Give me a function that gives the answer to the pythagorean theorem. \n",
    "// I'd like you to reuse the exponent function from above as well as the functions below to make your function.\n",
    "\n",
    "// If you don't remember the pythagorean theorem the formula is (a^2 + b^2 = c^2). Given a and b as parameters i'd like you to return c. \n",
    "// If this doesn't make sense look up `Pythagorean Theorem Formula` on google.\n",
    "\n",
    "double addition(double a, double b) {\n",
    "    double answer = a + b;\n",
    "    return answer;\n",
    "}\n",
    "\n",
    "double division(int a, int b) {\n",
    "    int answer = a / b;\n",
    "    return answer;\n",
    "}\n",
    "\n",
    "void Pythagorean(int a, int b) {\n",
    "    double a2 = Math.pow(a, 2);\n",
    "    double b2 = Math.pow(b, 2);\n",
    "    double c2 = addition(a2, b2);\n",
    "    double c = Math.sqrt(c2);\n",
    "    \n",
    "    System.out.println( c);\n",
    "}\n",
    "\n",
    "Pythagorean(3,4);"
   ]
  }
 ],
 "metadata": {
  "kernelspec": {
   "display_name": "Java",
   "language": "java",
   "name": "java"
  },
  "language_info": {
   "codemirror_mode": {
    "name": "ipython",
    "version": 3
   },
   "file_extension": ".py",
   "mimetype": "text/x-python",
   "name": "python",
   "nbconvert_exporter": "python",
   "pygments_lexer": "ipython3",
   "version": "3.8.5-final"
  },
  "orig_nbformat": 2
 },
 "nbformat": 4,
 "nbformat_minor": 2
}