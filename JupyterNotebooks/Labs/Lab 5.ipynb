{
 "cells": [
  {
   "cell_type": "markdown",
   "metadata": {},
   "source": [
    "# Lab Five\n",
    "---\n",
    "\n",
    "For this lab we're going to be messing around with our Linear Data Types!\n",
    "\n",
    "Our Goals are:\n",
    "- Creating an Array\n",
    "- Creating an ArrayList\n",
    "- Creating an LinkedList\n",
    "- Creating an Queue\n",
    "- Creating an Stack \n",
    "\n",
    "Please show the ability to:\n",
    "- Create these data types\n",
    "- Populate the data types\n",
    "- Print out the Linear Data Types"
   ]
  },
  {
   "cell_type": "code",
   "execution_count": 1,
   "metadata": {},
   "outputs": [
    {
     "name": "stdout",
     "output_type": "stream",
     "text": [
      "[Computer, glass of water, dish from lunch, glasses that I should be wearing]\n"
     ]
    }
   ],
   "source": [
    "// Create an ArrayList, Populate it, and Print it out\n",
    "\n",
    "import java.util.ArrayList;\n",
    "\n",
    "    ArrayList<String>  things_in_front_of_me = new ArrayList<String>();\n",
    "    things_in_front_of_me.add(\"Computer\");\n",
    "    things_in_front_of_me.add(\"glass of water\");\n",
    "    things_in_front_of_me.add(\"dish from lunch\");\n",
    "    things_in_front_of_me.add(\"glasses that I should be wearing\");\n",
    "\n",
    "    System.out.println(things_in_front_of_me);\n"
   ]
  },
  {
   "cell_type": "code",
   "execution_count": 5,
   "metadata": {},
   "outputs": [
    {
     "name": "stdout",
     "output_type": "stream",
     "text": [
      "[Computer, glass of water, dish from lunch, glasses that I should be wearing, table centerpiece, table centerpiece, table centerpiece, table centerpiece]\n"
     ]
    }
   ],
   "source": [
    "things_in_front_of_me.add(\"table centerpiece\");\n",
    "System.out.println(things_in_front_of_me);"
   ]
  },
  {
   "cell_type": "code",
   "execution_count": 17,
   "metadata": {},
   "outputs": [
    {
     "name": "stdout",
     "output_type": "stream",
     "text": [
      "[9.11, 28.53, 8.55, 7.55, 24.14]\n"
     ]
    }
   ],
   "source": [
    "// Create an Array, Populate it, and Print it out\n",
    "\n",
    "double[] paces_during_run = {9.11, 28.53, 8.55, 7.55, 24.14};\n",
    "\n",
    "System.out.println(Arrays.toString(paces_during_run));\n"
   ]
  },
  {
   "cell_type": "code",
   "execution_count": 18,
   "metadata": {},
   "outputs": [
    {
     "name": "stdout",
     "output_type": "stream",
     "text": [
      "[garden herd and spinach wrap, egg, banquet breakfast sausage patty, lettuce, sauteed yellow pepper and onions]\n"
     ]
    }
   ],
   "source": [
    "// Create an LinkedList, Populate it, and Print it out\n",
    "\n",
    "import java.util.LinkedList;\n",
    "\n",
    "LinkedList<String> myBreakfastThisMorning = new LinkedList<String>();\n",
    "\n",
    "myBreakfastThisMorning.add(\"garden herd and spinach wrap\");\n",
    "myBreakfastThisMorning.add(\"egg\");\n",
    "myBreakfastThisMorning.add(\"banquet breakfast sausage patty\");\n",
    "myBreakfastThisMorning.add(\"lettuce\");\n",
    "myBreakfastThisMorning.add(\"tomato\");\n",
    "myBreakfastThisMorning.add(\"sauteed yellow pepper and onions\");\n",
    "\n",
    "System.out.println(myBreakfastThisMorning);"
   ]
  },
  {
   "cell_type": "code",
   "execution_count": 21,
   "metadata": {},
   "outputs": [
    {
     "name": "stdout",
     "output_type": "stream",
     "text": [
      "[garden herd and spinach wrap, egg, banquet breakfast sausage patty, lettuce, sauteed yellow pepper and onions, raspberries on side , cup of tea, raspberries on side , cup of tea, raspberries on side , cup of tea]\n"
     ]
    }
   ],
   "source": [
    "//Whoops! almost forgot these \n",
    "\n",
    "myBreakfastThisMorning.add(\"raspberries on side \");\n",
    "myBreakfastThisMorning.add(\"cup of tea\");\n",
    "myBreakfastThisMorning.remove(\"tomato\");\n",
    "\n",
    "System.out.println(myBreakfastThisMorning)"
   ]
  },
  {
   "cell_type": "code",
   "execution_count": null,
   "metadata": {},
   "outputs": [],
   "source": [
    "// Create an Queue, Populate it, and Print it out"
   ]
  },
  {
   "cell_type": "code",
   "execution_count": null,
   "metadata": {},
   "outputs": [],
   "source": [
    "// Create an Stack, Populate it, and Print it out"
   ]
  }
 ],
 "metadata": {
  "kernelspec": {
   "display_name": "Java",
   "language": "java",
   "name": "java"
  },
  "language_info": {
   "codemirror_mode": "java",
   "file_extension": ".jshell",
   "mimetype": "text/x-java-source",
   "name": "Java",
   "pygments_lexer": "java",
   "version": "15.0.2+7-27"
  },
  "orig_nbformat": 2
 },
 "nbformat": 4,
 "nbformat_minor": 2
}